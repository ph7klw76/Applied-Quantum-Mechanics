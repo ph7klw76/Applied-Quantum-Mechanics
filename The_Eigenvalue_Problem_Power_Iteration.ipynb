{
  "nbformat": 4,
  "nbformat_minor": 0,
  "metadata": {
    "colab": {
      "name": "The Eigenvalue Problem-Power Iteration.ipynb",
      "provenance": [],
      "authorship_tag": "ABX9TyMR3ZI8fk/jsw4bZBquFeRI",
      "include_colab_link": true
    },
    "kernelspec": {
      "name": "python3",
      "display_name": "Python 3"
    }
  },
  "cells": [
    {
      "cell_type": "markdown",
      "metadata": {
        "id": "view-in-github",
        "colab_type": "text"
      },
      "source": [
        "<a href=\"https://colab.research.google.com/github/ph7klw76/Applied-Quantum-Mechanics/blob/main/The_Eigenvalue_Problem_Power_Iteration.ipynb\" target=\"_parent\"><img src=\"https://colab.research.google.com/assets/colab-badge.svg\" alt=\"Open In Colab\"/></a>"
      ]
    },
    {
      "cell_type": "markdown",
      "metadata": {
        "id": "IzcU5cS-6dtz"
      },
      "source": [
        "Power iteration is the simplest method to calculate the eigenvalues of a\r\n",
        "matrix.it is diagonalisable, or equivalently, it has N linearly independent eigenvectors.its eigenvalues can be ordered like |$λ_{1}$| > |$λ_{2}$| ≥ ··· ≥ |$λ_{N}$|. The largest (absolute) eigenvalue and its associated eigenvector v1 are referred to as the **dominant** eigenvalue and **dominant** eigenvector. Cosider linear combination of the eigenvectors:\r\n"
      ]
    },
    {
      "cell_type": "markdown",
      "metadata": {
        "id": "0n5a68lB7TWL"
      },
      "source": [
        "![image.png](data:image/png;base64,iVBORw0KGgoAAAANSUhEUgAAAGIAAABKCAYAAABAWoFVAAAIMklEQVR4Ae2c70tbWRrH8wfkjS/7QiiI4ItCKeILZV7YFxaLUGWLSHeKaOmiYRZ0OzTaQevSabt0b5FR6KrLhLZht0TW0J2mneZFb2cri5Y2zESsdGxXO8YxM/XH1JAGfyTez3JjTNT8MuaG3MgNBG7uvc85534/5znnOc+5qkP7qEIBnSpaoTUCDYRKOoEGQgOhEgVU0gzNIzQQKlFAJc3QPEIDoRIFVNIMzSM0ECpRQCXN0DxCA6ESBVTSDM0jNBAqUUAlzdA8QgOhEgVU0gzNIzQQKlFAJc3QPEIDkQkFAnyY+JaephJ0hUbs8/7NStZdjAy0UFreyt/uO1mQMlF3emUeQI9YQOxqoLbyGGcs02xpLk3f43Pz2/Dv9GRT3vrggQg46e14yGtbC3kV/UysyygCLNl7GJjwKa+gQiUeOBDhnu95RmfRSQTHMuDB0f0VomdDIdmUL+aAgdjAI35Ft8MDLOMQKjnUamdp4y3mS0O4tsYp5XVMu8QDBuIjzt6b2JcCQWE2pszUHDJgHbNxZWCczbNpa5aRAg4WCOkt5s/vMb3V86UZrI0lVNY20CUuZERApQo9WCA8T7nS/ZLVsDoBlsQOinSNWFzr4bNqPDggICRWpp9xt/N3HG26xX+mP0a09r1AqB1gQs3jEmivXEaIZffogHhEdkVUonYNhBIqKlCGBkIBEZUoIudABNcGeh06nTJffY2ZKRUsuHMOBNISL4Vq9EEQpbTaZgjlWPfQMQN4XeOMikP0dZyhOAi0MpQG2YN5Bm/JPRCyGCuvMNUVbnpFoQHL1H6SeRL++e+xtFWSL6dBthaBGRQ7UdG5CQIJ/4yV5kJ9EIb+1C2c3n0uFPwu7O2XsMysJdIp49dyFISsi5958TIlwSEqnwrhOZ599mrpt+959Px9VvcqchgE7JwvymkX3VkVMx23yW0QMguvg95Th0PzRQvWmZV09Miabc6DAIn1KQuNofkir+42P67sc4zKGoY4uSbJZaP9bNVmeKcvw/DgJyR5o6XnNAW6QsprG2m3yefU8lllznaRIgXmi/090TKOvj9SWy5HcocorurE5pIn/zVctk6qigsorjLQF9wtjF1DAo/wMmluolC3FauvMGPtwGAaw6seApGnkhYYuVYVWl8oNV9I+N3/pb/tIle/voel/wbXhl4Te/DbSrnrOXJ1hHBAvT6B6azAqC+xaAlAyIHJNNbmYnSFTXz9TR+ftT9kzr+9wADeiX/R1SZwd+gOQtt1BieW43qK5LbT1VBPfX2ybwMGkzPyMBG5Ex7tmC+KLmKbi+xMJDSMeTE05B2pp39cfiYPzp4a9Md6cAYj5feIxoodb4qwNkbfiXx0RR2IwV1CCZ+jh7N9Y+wMjqNtE4OQJ8P57+g6no8uz4B1btfmysYbzDXnME9vPrA0baYmqykDiZUfb1OXJ6c/jnN5eD5up4ip/faTck+uLqRUeBHqEKu4hwf55+hcaCUfwDs7w8KOjulj0vR79LqCTUDSe8T2FkyTYf8I1RBtmxQE/v9haSqlQB8dq0suC3UFAo6tHIPfgVCQ3d2wTa/4hIa0hlCJVYfAUV0tpsndA5E8XD2l90YbTef/weSuwECaf0xroR59tYnX76x8duEx8+FBJL5tYhDSB5y9Bv704Ade9Nai15+k69kv4V7mdwgURIEoR3B4t/et8HGmhyb8szy5XENF13fbHj5cfQoHftzWJnT5XQx/DKsYsv/AaPcAo7Pf0nL4UvQrOrIXtJWh0x3jdO2ntIvbF4rxbROA8DP/7K+cuxlasa6/wdJ4DF1hJFZPFUQKSqR+a7DT1FHUaGEq+FJZ6kVELCTWXvVz4vB2EJsT90D3Nzh/XmRRvESBUUR+cWfnJ2Sr16E/0c+rte0gV1l0x7INxNoqlSeYAc4Fw9dDFBv+vfk+kPQTDwxl6HV6CspPU99uY2bKTHWUR3wanjN2NjCTv3xMWQwUpZNz2t08aZmJwSu0dPZjGTLTJ1xHuD2COzgnLCAaqzCKP7PoXorO/gY7bSWNljfsmlWBWLarsUDsblGC3+vj9FU0hIUPTtbVJibT7pEJ6oy6tIr7yZccL+3A7k4nSooqOP4Jj4jxcAu2d8N0d4+mFt3FsU0wNMVvR+SKHL4O0t76F+4O3eZa65+xJAhfI3ZKHQXwvrpDQ2kTplfxw+ZktUlukTtPU8hT+X6g7/R5jDf+jpgq/Di2aYJI9oiZvC6P2Y9pKz21I4BIuUb/DLYLX0SH5ikXlJ5BzoKQPM8RKsrijMN7ESWAd8qOUHeUvGYb77fPqXsxV/ie3ASxMoG5oSy1PQjJi2vMwcvhxwyaBC7WloTSIZ/QObyosKypF5d7IIJrhZMhERV4gaD0Jo4keaDUZU3dIvdArEwzfN+K1arE9z4PHe7o8DN1HdO2yD0QaT+yOgvQQKiEiwZCA6ESBVTSjBz2iAC/iV9QdMbCTEprAAn/wjg24TzNVpdKMMTZs1ZN65I0RPLO8W4htfyStODkkc2GqaWceg1EEoWTXfbPIvZex9h0AfNk7L2PxEV4cQhVGojEIiW7KuEbHaB79DX2lkqMwT9S9DFtH0AQhLjfXvvUtpS0BiKZynu4LuFf/JXFxScYC2LskO2hBNBA7Emm5DfJf9gu75A9YVGGsmMDP7m1BmIvGu3pHnmX6wTNtnFG5P1j30dtaNqTborf5MHZ18QfjNfpFWdTyxUFc1V3uVp7hJKWWww9Use/DcrhdYTidLNaoAYiq/JHKtdARLTI6pEGIqvyRyrXQES0yOqRBiKr8kcq/z/5Rh6ygSnw0wAAAABJRU5ErkJggg==)"
      ]
    },
    {
      "cell_type": "markdown",
      "metadata": {
        "id": "GZo4mcFt7ZtD"
      },
      "source": [
        "Let’s multiply this expansion by $A^n$"
      ]
    },
    {
      "cell_type": "markdown",
      "metadata": {
        "id": "YDErmO9M8JGC"
      },
      "source": [
        "![image.png](data:image/png;base64,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)"
      ]
    },
    {
      "cell_type": "markdown",
      "metadata": {
        "id": "ZQjL5Ix48TT3"
      },
      "source": [
        "where we have factored out $λ^n_{1}$ in the last step. Now, taking the limit n→∞, we find that"
      ]
    },
    {
      "cell_type": "markdown",
      "metadata": {
        "id": "L0CObg6E83kT"
      },
      "source": [
        "![image.png](data:image/png;base64,iVBORw0KGgoAAAANSUhEUgAAAJoAAAAsCAYAAACdbKF/AAAJaElEQVR4Ae2a309T2RbHzx/Qlz7yYELSkPBgYm6ID5jJDT5ANCRg7oQQdNIUk4mQ0RQ1/DIgZgYwcowzEhxEaWZs1Hv02niHXjPotXeumMg4dGZqhBBmAAWVO/xSSCH8KJzPzSkt/SG2pZSOxXOSpufHPmut/d3fs9baa28B9VARiAMCQhx0qCpUBFCJppIgLgioRIsLzKoSlWgqB+KCgEq0uMCsKlGJpnIgLgioRIsLzKoSlWgqB+KCgEq0uMCsKlGJpnIgLgioRIsLzKoSlWgqB+KCgEq0uMCsKtn6RJv9hZaaakoNddyyXKDmKxOXyws53PaM5Q96/GVmHd9Sc/IYhi+uYWms56srX1NeUEHb0HzMkYmSaMtMdzZSkJGCIBzCMuKKuWHRCVzC2fcY+4gXKJmZjgt8+fhHTFk7KDD3sYjMfGcdyXoLI9EpSZy35DEc35SQvvsL7q9i4jV/ko4zl3j8pJUsbSHm/llgis7aPegtw95GMfuPkmgr+l12Ed0q0eYZshwmJeUwlk34IiLq8ezPnM/c4QeUjGviDyZGv8eYXIltWvFhc/SZ8tkhduGlY0SyE7WRPIhUkML22kcoVPId80yMjDPafpzkMhvTyoPlXkxZexHt7itf0xicxZBoS7zuauXo0Va6Xi/FwLT1ipilz7QfjZBElqnXLyx6PFiumUHZC+YuymwvmRiZ5H3xxevtbeTtFxiSDqLZXk/nrAKA/6F4sExyzb/jhqbPRFZSJbaJCUYmYvsZxpBo/h2I97nMYr9EZWMjVToBnWj3I1CgB1tWwEw9RceL+5xu+pWFeJv6J+iThyQKNBnUdr4J1B7gwVZwSq3+gRe2JpoczsC2G7zaGkRzDXK7/hrdMz2YspLQHLIytgrMOLayXMpso+478tgP1BjKEMVWOsYUf7bAsPUUn2SnoREENGnHaBtegNkuzmelIOgyyNOfwqrcS9TjXeFz2kbZjhPY3BHIxdiDMxjKTiM2dTAmy8zaWziYl4HOjcs+yq3P3Z5PHrZSnp2GNi2bwmZ7UEheG6TYEW26k/MFilE6T47kN2HQneTW3VbqvzZzq7WcnFyRB/0/c0P8EpNkRjTso+jvvcytbWOYuy5G716gxaHkFcNY9DqEfInh4CgRRgpzPZgNf0FILcX6ah5cg1iOlmLqnnKDG+71TX3uesWji1WU1F5Cki5SV3ebvrn1dNATPhVP7s5TI7dWnrxPeaoGISD0KmnKMeqCPWQIsbEjmqLEZUfUeYm2onVlwpCKQepfCWfyM6T8ZIT0M3ROK7mcJ4dScoN1gqBokF8/pKnlJ6bduCs5x0cIOhH7upMvGdeQhaIULSmFzXx3uZwK65BfCAbZ+ZQbNVWIVySuiFXU3HiK813jLb+gveZT9Hp9+F/xNzjeyp88o7b4G1JhBvkXHTgVL+NoJFOzh/OOGWCe8W4rYv7xMDP/eV5ajpAkpFFmG/cIjvRvhu7mj9EIuyi3ja58dLM/IX5yie4Fv867xui2iuQX3V5zNh8nohUiDS96erbidZJrO1dnfYGz10gBUFg2SWddPnll9YiiiCjWYszWIURJWlDCRx27NQLaQguv/HBUBnXAfJB9nsQZ+XfM+w5iHoht0hzYe88EJ/0sdjcRZVwjD7l6rZMR1yLjjntY77Vi3BaqxKT0qYHCk4005OlI8s4wAxWFuJJZ7DORqxHQFEgMyUtM2j7ngKkH74iilFHu3OGe6Qjb3lE2ihPR/IFYIZp/wh4d0ZSv+wrn/uP5ytxQuRixHNpAbU/xajc5lJqMRpOL2DXpC5tuT6xM/b1JshO7uJd86ZmvTYjhiurRfBfijm1Bs+ggSe4o4o+v//MlnN1XKC6+Rt/cIqNWI9rgjzCMJ3JLk0doL9mJoNmPqbcHy2c1tLvzW39dSkAT0W05os09oaVSon/R3+0sM22rJEnwhpZAIMJdyU47jftP0Nb7kMacZDS763jgBdQ9oBlBRMsImuH6aYhF6ByxoBfSqe6Y9BMcdPpOoikk+xZDZjXtnmKtPGqlSOsXPiPwRCvaFC9WRaqgIfXjPPIq7jPpD7vHpC1ItFn6zcepWWMAVrzjR9R2TgWNSJhL+X88OFXCWbcXk1kckChU8rUiC0Mu2ZN/roNoYdRF9HjhCc1ZGYFEUyYGLc38y1sUX5NoHpKl5tPoeOPzuPJLrEXb3wqfoQiyaqfblm0Imo9p7lbyw7ePUHKiDJ3LOB3/oMGYjVZIR1/dgq37R6QGI9laLWn6Kppsz5gKbvP8N2xNVejTtGizjTRIv/AquM1wqJxnidf269QZc9AJ28goMmFfLQ6/wSGdo0q/C42g2HACUXLgDXRvw+K9M4W9+chKeUOzi+I27xT+nxSnJSEIKWTkFVLR9l/MuXuCPNqe1WKnV1ps/5dw9tyk0niKy9JNzM0iteJVOv2Xk9Yimrs+tosiy2DAZAY8nklbjOXVaoYVMuT5+jPLgPQZ6YUSAwFRxNdiE4jmE/7hnM3Q01zgI5Z7MmDA1Be4sBN3PNYi2jqNCEWQ9YgKJSdKj7Ye9VunrVLekCpKqVPKG3WlVEghyhub3m2ZucGH3L5eS572rxibb3LHMeYLk+vQH4ogkYmZYbDjO67X5qPdaaT51l0c44H1JZVokSG5pVttnGjh4YmAaBvZt6SUG0owWIai+tLCm6+22BgC4T3RxuT73o6AaBvbtySP/5vyfU04/KvI8hQ9UhnZu/9GXkY6u42XeaQkuPI0A9/Xk5Oup7qhlPzc2jX2UfmMV88SB4EIiLbRfUtLTD86y4EKCcfYyoxyqcfEEXOfZ0lqim7Tp6Sk7Ke6qpgi0xPfss7CrzSeukeIKlLiIP2BWxoB0RSE3rVvaZznj29zzr38oywBrf07o5RBdDkYLz5iXFbCaXPg2pz8GruYg5B0BMtL//KGE/t5UxTrlh/4qL6H3Y+MaBvZt7TQi/nw6dXqtLKIvuC4zAnrS0/epqzf3aPGUMLnxiw0O6tW28rOx5yrUz3ae8ibdZsUGdFC7lsKpXOJyfZy9gbseFUWw6d4evEgmYdqaCjLJ91wiS4lrLr+wH61kuyUnWQfyGZn5lp73UPpU5+9rwhERrSorZdxjQ/xwvlnbO2O2mj1xU1AYJOJtgkWqyITEgGVaAk5bIlntEq0xBuzhLRYJVpCDlviGa0SLfHGLCEtVomWkMOWeEarREu8MUtIi/8P3xI38fGvk4MAAAAASUVORK5CYII=)"
      ]
    },
    {
      "cell_type": "markdown",
      "metadata": {
        "id": "nNm5x8KN9lQr"
      },
      "source": [
        "What if |$λ_{1}$| > 1?While the power iteration should still approach\r\n",
        "the largest eigenvector, every successive iteration will result in a larger\r\n",
        "and larger vector. If this happens too quickly, we might approach the\r\n",
        "maximum value floating point number we can store in memory before\r\n",
        "convergence is reached. To avoid this, we can simply normalise $A^n$x\r\n",
        "at each iteration — this is called the normalised power iteration.\r\n",
        "After using the power iteration to approximate the largest (normalised) eigenvector, we can employ the Rayleigh quotient to determine the associated largest eigenvalue"
      ]
    },
    {
      "cell_type": "markdown",
      "metadata": {
        "id": "l6ADlBY_-Gxz"
      },
      "source": [
        "![image.png](data:image/png;base64,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)"
      ]
    },
    {
      "cell_type": "markdown",
      "metadata": {
        "id": "y0kqiQ3R-NhD"
      },
      "source": [
        "Use the normalised power iteration to find the dominant eigenvalue and\r\n",
        "associated eigenvector of the Hermitian matrix\r\n",
        " \\begin{pmatrix}\r\n",
        "  4 & -i & 2 \\\\\r\n",
        "  i & 2 & 2+7i \\\\\r\n",
        "  2 & 2-7i & -2\r\n",
        " \\end{pmatrix}"
      ]
    },
    {
      "cell_type": "code",
      "metadata": {
        "colab": {
          "base_uri": "https://localhost:8080/"
        },
        "id": "jekn9bU06Uvz",
        "outputId": "7b025681-11da-4253-8c69-1020f5a7cc33"
      },
      "source": [
        "import numpy as np\r\n",
        "# function to calculate the Rayleigh quotient\r\n",
        "def Check_Hermitian(A):\r\n",
        "    z=np.matrix(A)\r\n",
        "    return np.allclose(z,z.getH())\r\n",
        "\r\n",
        "def rayleigh_quotient(A,x):\r\n",
        "    if Check_Hermitian(A)==True:\r\n",
        "        return np.dot(x, np.dot(A, x))/np.dot(x,x)  \r\n",
        "# function to normalise a vector\r\n",
        "def normalise(x,eps=1e-10):\r\n",
        "    N = np.sqrt(np.sum(abs(x)**2))\r\n",
        "    if N < eps: # in case it is the zero vector!\r\n",
        "        return x\r\n",
        "    else:\r\n",
        "        return x/N\r\n",
        "def Rayleigh_quotient(A,x):\r\n",
        "    try:\r\n",
        "        RQnew = rayleigh_quotient(A,x)\r\n",
        "        RQold = 0\r\n",
        "        i=0\r\n",
        "    # perform the power iteration\r\n",
        "        while np.abs(RQnew-RQold) > 1e-10:\r\n",
        "            RQold = RQnew\r\n",
        "            x = normalise(np.dot(A, x))\r\n",
        "            RQnew = rayleigh_quotient(A, x)\r\n",
        "            if i%20==0:\r\n",
        "                print('interaction=',i,RQnew)\r\n",
        "            i+=1\r\n",
        "        print(\"Dominant eigenvector:\",x)\r\n",
        "        print(\"Dominant eigenvalue: {:.5f}\".format(RQnew))\r\n",
        "    except:\r\n",
        "        print('Not a Hermitian')\r\n",
        "    return x,RQnew\r\n",
        "A = np.array([[4, -1j, 2],[1j, 2, 2+7j],[2, 2-7j, -2]])\r\n",
        "x = normalise(np.array([1, 1, 1]))\r\n",
        "x,RQnew= Rayleigh_quotient(A,x)"
      ],
      "execution_count": null,
      "outputs": [
        {
          "output_type": "stream",
          "text": [
            "interaction= 0 (-6.571573604060915-1.2020304568527909j)\n",
            "interaction= 20 (15.473534341873323-4.3731275317848j)\n",
            "interaction= 40 (9.026644213750636-0.1629757137339398j)\n",
            "interaction= 60 (8.524201876303408-0.018960452027119018j)\n",
            "interaction= 80 (8.461439231341386-0.0024813779705511745j)\n",
            "interaction= 100 (8.453149299157674-0.00032973432961062497j)\n",
            "interaction= 120 (8.45204635394391-4.3905105026941314e-05j)\n",
            "interaction= 140 (8.451899469573414-5.847671687072048e-06j)\n",
            "interaction= 160 (8.45187990578419-7.78872805465504e-07j)\n",
            "interaction= 180 (8.451877300003938-1.0374141240265056e-07j)\n",
            "interaction= 200 (8.451876952928727-1.381775858355081e-08j)\n",
            "interaction= 220 (8.451876906700257-1.8404511266401132e-09j)\n",
            "interaction= 240 (8.451876900542894-2.4515733489240735e-10j)\n",
            "interaction= 260 (8.45187689972276-3.265287816995824e-11j)\n",
            "Dominant eigenvector: [0.33980972-0.23445694j 0.49134277+0.51067228j 0.50105938-0.27621534j]\n",
            "Dominant eigenvalue: 8.45188+0.00000j\n"
          ],
          "name": "stdout"
        }
      ]
    },
    {
      "cell_type": "code",
      "metadata": {
        "colab": {
          "base_uri": "https://localhost:8080/"
        },
        "id": "N1OSTCLdElK0",
        "outputId": "7c94013b-2ed3-4c4f-fdc2-b6818829e1ef"
      },
      "source": [
        "B = np.array([[1,2,0],[-2,1,2],[1,3,1]])\r\n",
        "y = normalise(np.array([1, 1, 2]))\r\n",
        "y,RQnew= Rayleigh_quotient(B,y)\r\n",
        "print(\"Dominant eigenvector:\",y)\r\n",
        "print(\"Dominant eigenvalue: {:.5f}\".format(RQnew))\r\n"
      ],
      "execution_count": null,
      "outputs": [
        {
          "output_type": "stream",
          "text": [
            "interaction= 0 2.9999999999999996\n",
            "Dominant eigenvector: [0.40824829 0.40824829 0.81649658]\n",
            "Dominant eigenvalue: 3.00000\n"
          ],
          "name": "stdout"
        }
      ]
    },
    {
      "cell_type": "code",
      "metadata": {
        "id": "msXtsypeQgdT"
      },
      "source": [
        ""
      ],
      "execution_count": null,
      "outputs": []
    },
    {
      "cell_type": "markdown",
      "metadata": {
        "id": "PvE_wK-uHvaz"
      },
      "source": [
        "Everyday you are likely interacting with a company that uses the power\r\n",
        "iteration — Google! To determine which websites are more useful when\r\n",
        "presenting you with search results, Google uses a **network centrality**\r\n",
        "algorithm called PageRank. By representing internet sites as a network\r\n",
        "of nodes with hyperlinks as connected edges, it turns out that information\r\n",
        "containing the importance or centrality of each site is contained with\r\n",
        "the dominant eigenvector. The power iteration is thus ideally suited for\r\n",
        "Google’s needs"
      ]
    },
    {
      "cell_type": "markdown",
      "metadata": {
        "id": "_nAjE_PXIgu0"
      },
      "source": [
        "Recall that the convergence of the power iteration is completely dependent\r\n",
        "on the ratio |$λ_{2}/λ_{1}$|, where $λ_{2}$ is the second highest eigenvalue"
      ]
    }
  ]
}